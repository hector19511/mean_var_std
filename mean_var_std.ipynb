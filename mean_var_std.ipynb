{
 "cells": [
  {
   "cell_type": "code",
   "execution_count": 2,
   "id": "967b4e19",
   "metadata": {},
   "outputs": [],
   "source": [
    "import numpy as np"
   ]
  },
  {
   "cell_type": "code",
   "execution_count": 4,
   "id": "18464c8e",
   "metadata": {},
   "outputs": [],
   "source": [
    "def calculate(L):\n",
    "    \"\"\"The input of the function should be a list containing 9 digits. \n",
    "    The function should convert the list into a 3 x 3 Numpy array, and \n",
    "    then return a dictionary containing the mean, variance, standard \n",
    "    deviation, max, min, and sum along both axes and for the flattened matrix.\n",
    "    \"\"\"\n",
    "    if len(L)<9:\n",
    "        raise ValueError(\"List must contain nine numbers\")\n",
    "    else:\n",
    "        array = np.array(L)\n",
    "        matrix = array.reshape(3,3)\n",
    "        statistics = {\n",
    "        'mean': [\n",
    "             matrix.mean(axis=0).tolist(),\n",
    "             matrix.mean(axis=1).tolist(),\n",
    "             matrix.mean().tolist()\n",
    "        ],\n",
    "        'variance': [\n",
    "             matrix.var(axis=0).tolist(),\n",
    "             matrix.var(axis=1).tolist(),\n",
    "             matrix.var().tolist()\n",
    "        ],\n",
    "        'standard deviation': [\n",
    "             matrix.std(axis=0).tolist(),\n",
    "             matrix.std(axis=1).tolist(),\n",
    "             matrix.std().tolist()\n",
    "        ],\n",
    "        'max': [\n",
    "             matrix.max(axis=0).tolist(),\n",
    "             matrix.max(axis=1).tolist(),\n",
    "             matrix.max().tolist()\n",
    "        ],\n",
    "        'min': [\n",
    "             matrix.min(axis=0).tolist(),\n",
    "             matrix.min(axis=1).tolist(),\n",
    "             matrix.min().tolist()\n",
    "        ],\n",
    "        'sum': [\n",
    "             matrix.sum(axis=0).tolist(),\n",
    "             matrix.sum(axis=1).tolist(),\n",
    "             matrix.sum().tolist()\n",
    "        ]\n",
    "        }\n",
    "\n",
    "    return statistics"
   ]
  },
  {
   "cell_type": "code",
   "execution_count": 5,
   "id": "21a1ea32",
   "metadata": {},
   "outputs": [
    {
     "data": {
      "text/plain": [
       "{'mean': [[3.0, 4.0, 5.0], [1.0, 4.0, 7.0], 4.0],\n",
       " 'variance': [[6.0, 6.0, 6.0],\n",
       "  [0.6666666666666666, 0.6666666666666666, 0.6666666666666666],\n",
       "  6.666666666666667],\n",
       " 'standard deviation': [[2.449489742783178,\n",
       "   2.449489742783178,\n",
       "   2.449489742783178],\n",
       "  [0.816496580927726, 0.816496580927726, 0.816496580927726],\n",
       "  2.581988897471611],\n",
       " 'max': [[6, 7, 8], [2, 5, 8], 8],\n",
       " 'min': [[0, 1, 2], [0, 3, 6], 0],\n",
       " 'sum': [[9, 12, 15], [3, 12, 21], 36]}"
      ]
     },
     "execution_count": 5,
     "metadata": {},
     "output_type": "execute_result"
    }
   ],
   "source": [
    "calculate([0,1,2,3,4,5,6,7,8])"
   ]
  },
  {
   "cell_type": "code",
   "execution_count": null,
   "id": "0f5211cf",
   "metadata": {},
   "outputs": [],
   "source": []
  }
 ],
 "metadata": {
  "kernelspec": {
   "display_name": "Python 3 (ipykernel)",
   "language": "python",
   "name": "python3"
  },
  "language_info": {
   "codemirror_mode": {
    "name": "ipython",
    "version": 3
   },
   "file_extension": ".py",
   "mimetype": "text/x-python",
   "name": "python",
   "nbconvert_exporter": "python",
   "pygments_lexer": "ipython3",
   "version": "3.11.7"
  }
 },
 "nbformat": 4,
 "nbformat_minor": 5
}
